{
 "cells": [
  {
   "cell_type": "markdown",
   "id": "4bf3ad48-45e4-42ca-a7fc-1c7d43814ef9",
   "metadata": {},
   "source": [
    "For the purpose of this chapter asumme that we have \n",
    "* `A` the balance of the token `X`\n",
    "* `B` the balance of the token `Y`\n",
    "Assign those values to the following cell to test by yourself."
   ]
  },
  {
   "cell_type": "markdown",
   "id": "241c6f71-4a1a-46d6-a3af-77af81997d97",
   "metadata": {},
   "source": [
    "Your pool has to always keep the constant equality\n",
    "$AB = L^2 (1)$\n",
    "\n",
    "Suppose a trader wants to buy an amount $a$ of token $X$.\n",
    "Therefore, he will have to pay $b$ in $Y$, so, to calculate this, remember the pool will always keep equality (1), so\n",
    "\n",
    "$$(A-a)(B-b) = L^2 (2)$$\n",
    "$$AB - aB -Ab + ab = L^2$$\n",
    "But by (1), \n",
    "$$ab - aB -Ab = 0$$\n",
    "So if we isolate $b$, \n",
    "$$b= \\frac{aB}{A-a}$$\n",
    "In the same way, if you want to buy an amount $b$ of token $Y$, you can isolate $a$ in (2) the same way was done for $b$ and obtain\n",
    "$$a= \\frac{bA}{B-b}$$"
   ]
  },
  {
   "cell_type": "code",
   "execution_count": 50,
   "id": "5d2ab105-e067-442a-944c-1c0df1090a2b",
   "metadata": {
    "jupyter": {
     "source_hidden": true
    }
   },
   "outputs": [
    {
     "data": {
      "application/vnd.jupyter.widget-view+json": {
       "model_id": "d94a8a67a3c44d8b9e7ff593dcb5ab70",
       "version_major": 2,
       "version_minor": 0
      },
      "text/plain": [
       "HBox(children=(Text(value='', description='A:', placeholder='Add the amount of X tokens you want in the pool')…"
      ]
     },
     "metadata": {},
     "output_type": "display_data"
    },
    {
     "data": {
      "application/vnd.jupyter.widget-view+json": {
       "model_id": "eb3bb70bdba146a486c551813758e02b",
       "version_major": 2,
       "version_minor": 0
      },
      "text/plain": [
       "HBox(children=(Text(value='', description='B:', placeholder='Add the amount of Y tokens you want in the pool')…"
      ]
     },
     "metadata": {},
     "output_type": "display_data"
    },
    {
     "data": {
      "application/vnd.jupyter.widget-view+json": {
       "model_id": "e4b9bf25acc843c69314eeffbf5583d7",
       "version_major": 2,
       "version_minor": 0
      },
      "text/plain": [
       "HBox(children=(Text(value='', description='a:', placeholder='Add the amount of a to buy of X'), Button(descrip…"
      ]
     },
     "metadata": {},
     "output_type": "display_data"
    },
    {
     "data": {
      "application/vnd.jupyter.widget-view+json": {
       "model_id": "ebdf93a7cbf245de91273ffc4e94ff7a",
       "version_major": 2,
       "version_minor": 0
      },
      "text/plain": [
       "HBox(children=(Text(value='', description='X:', placeholder='Name of X'), Button(description='Rename X', style…"
      ]
     },
     "metadata": {},
     "output_type": "display_data"
    },
    {
     "data": {
      "application/vnd.jupyter.widget-view+json": {
       "model_id": "8ddd94e492f442108615d32071ff1786",
       "version_major": 2,
       "version_minor": 0
      },
      "text/plain": [
       "HBox(children=(Text(value='', description='Y:', placeholder='Name of Y'), Button(description='Rename Y', style…"
      ]
     },
     "metadata": {},
     "output_type": "display_data"
    }
   ],
   "source": [
    "import ipywidgets as widgets\n",
    "from IPython.display import display\n",
    "A,B,a = 0,0,0\n",
    "X,Y = \"\",\"\"\n",
    "text_input_A = widgets.Text(description='A:',placeholder='Add the amount of X tokens you want in the pool')\n",
    "button_A = widgets.Button(description=\"Update A\")\n",
    "\n",
    "text_input_B = widgets.Text(description='B:',placeholder='Add the amount of Y tokens you want in the pool')\n",
    "button_B = widgets.Button(description=\"Update B\")\n",
    "\n",
    "text_input_a = widgets.Text(description='a:',placeholder='Add the amount of a to buy of X')\n",
    "button_a = widgets.Button(description=\"Update a\")\n",
    "\n",
    "text_input_X = widgets.Text(description='X:',placeholder='Name of X')\n",
    "button_X = widgets.Button(description=\"Rename X\")\n",
    "\n",
    "text_input_Y = widgets.Text(description='Y:',placeholder='Name of Y')\n",
    "button_Y = widgets.Button(description=\"Rename Y\")\n",
    "\n",
    "def setA(val):\n",
    "    global A\n",
    "    A = int(text_input_A.value)    \n",
    "def setB(val):\n",
    "    global B\n",
    "    B = int(text_input_B.value)\n",
    "def seta(val):\n",
    "    global a\n",
    "    a = int(text_input_a.value)\n",
    "def setX(val):\n",
    "    global X\n",
    "    X = text_input_X.value\n",
    "def setY(val):\n",
    "    global Y\n",
    "    Y = text_input_Y.value   \n",
    "    \n",
    "button_A.on_click(setA)\n",
    "button_B.on_click(setB)\n",
    "button_a.on_click(seta)\n",
    "button_X.on_click(setX)\n",
    "button_Y.on_click(setY)\n",
    "\n",
    "row_A = widgets.HBox([text_input_A, button_A])\n",
    "row_B = widgets.HBox([text_input_B, button_B])\n",
    "row_a = widgets.HBox([text_input_a, button_a])\n",
    "row_X = widgets.HBox([text_input_X, button_X])\n",
    "row_Y = widgets.HBox([text_input_Y, button_Y])\n",
    "\n",
    "display(row_A)\n",
    "display(row_B)\n",
    "display(row_a)\n",
    "display(row_X)\n",
    "display(row_Y)"
   ]
  },
  {
   "cell_type": "code",
   "execution_count": 51,
   "id": "8f440f3e-01cb-44eb-9a53-bf43a23c957b",
   "metadata": {
    "jupyter": {
     "source_hidden": true
    }
   },
   "outputs": [
    {
     "name": "stdout",
     "output_type": "stream",
     "text": [
      "A = 100\n",
      "B = 400000\n",
      "AB = 40000000\n",
      "L^2 = 40000000\n",
      "\n",
      "You want an amount of a = 20 in ETH.\n",
      "You will need to pay 100000.0 in USDC\n",
      "\n"
     ]
    }
   ],
   "source": [
    "def poolSwapNoFee(a):\n",
    "    b = a*B / (A - a)\n",
    "    return b\n",
    "\n",
    "print(f\"\"\"A = {A}\n",
    "B = {B}\n",
    "AB = {A*B}\n",
    "L^2 = {A*B}\n",
    "\n",
    "You want an amount of a = {a} in {X}.\n",
    "You will need to pay {poolSwapNoFee(a)} in {Y}\n",
    "\"\"\")\n"
   ]
  },
  {
   "cell_type": "markdown",
   "id": "e0ff4ec0-ffa4-4b87-b001-de700247df6a",
   "metadata": {},
   "source": [
    "Now, let\n",
    "* $p$ the spot prince of token $X$ in terms of $Y$ and\n",
    "* $p_e(b)$ the effective price paid by the trader when depositing an amount $b$ of $Y$.\n",
    "They can be calculated with the equations\n",
    "$$p_e(b) = \\frac{b}{a} = \\frac{B}{A} + \\frac{b}{A}$$\n",
    "$$p = \\frac{B}{A} $$\n",
    "The **spot price** can be understood as the price the liquidity pool offers traders at a particular moment.\n",
    "\n",
    "| The difference between the amount $b$ that a trader pays and the amount that the trader would have paid if they had bought an amount $a$ at a price equal to the spot price $p$ is called **price impact**\n",
    "$$Price\\ Impact = b- ap = a\\left(\\frac{b}{a} - p\\right) = a\\left(p_e(b) - p\\right)  = \\frac{ab}{A} $$"
   ]
  },
  {
   "cell_type": "code",
   "execution_count": null,
   "id": "2941a3b8-7b7f-4738-bd73-e280299224e2",
   "metadata": {},
   "outputs": [],
   "source": []
  },
  {
   "cell_type": "code",
   "execution_count": null,
   "id": "c4b56fcc-86a7-4028-9942-cd4de7f18740",
   "metadata": {},
   "outputs": [],
   "source": []
  }
 ],
 "metadata": {
  "kernelspec": {
   "display_name": "Python 3 (ipykernel)",
   "language": "python",
   "name": "python3"
  },
  "language_info": {
   "codemirror_mode": {
    "name": "ipython",
    "version": 3
   },
   "file_extension": ".py",
   "mimetype": "text/x-python",
   "name": "python",
   "nbconvert_exporter": "python",
   "pygments_lexer": "ipython3",
   "version": "3.12.4"
  }
 },
 "nbformat": 4,
 "nbformat_minor": 5
}
